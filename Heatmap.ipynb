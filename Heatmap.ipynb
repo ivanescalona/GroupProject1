{
 "cells": [
  {
   "cell_type": "code",
   "execution_count": 16,
   "metadata": {},
   "outputs": [],
   "source": [
    "import pandas as pd\n"
   ]
  },
  {
   "cell_type": "code",
   "execution_count": 17,
   "metadata": {},
   "outputs": [
    {
     "name": "stdout",
     "output_type": "stream",
     "text": [
      "['AK', 'TX', 'CA', 'MT', 'NM', 'AZ', 'NV', 'CO', 'OR', 'WY', 'MI', 'MN', 'UT', 'ID', 'KS', 'NE', 'SD', 'WA', 'ND', 'OK', 'MO', 'FL', 'WI', 'GA', 'IL', 'IA', 'NY', 'NC', 'AR', 'AL', 'LA', 'MS', 'PA', 'OH', 'VA', 'TN', 'KY', 'IN', 'ME', 'SC', 'WV', 'MD', 'HI', 'MA', 'VT', 'NH', 'NJ', 'CT', 'DE', 'RI', 'DC', 'PR', 'MP', 'VI', 'AS', 'GU']\n"
     ]
    }
   ],
   "source": [
    "%run facilities_df.ipynb"
   ]
  },
  {
   "cell_type": "code",
   "execution_count": 18,
   "metadata": {},
   "outputs": [],
   "source": [
    "codes = ['AK', 'TX', 'CA', 'MT', 'NM', 'AZ', 'NV', 'CO', 'OR', 'WY', 'MI', 'MN', 'UT', 'ID', 'KS', 'NE', 'SD', 'WA', 'ND', 'OK', 'MO', 'FL', 'WI', 'GA', 'IL', 'IA', 'NY', 'NC', 'AR', 'AL', 'LA', 'MS', 'PA', 'OH', 'VA', 'TN', 'KY', 'IN', 'ME', 'SC', 'WV', 'MD', 'HI', 'MA', 'VT', 'NH', 'NJ', 'CT', 'DE', 'RI', 'DC', 'PR', 'MP', 'VI', 'AS', 'GU']"
   ]
  },
  {
   "cell_type": "code",
   "execution_count": 19,
   "metadata": {},
   "outputs": [],
   "source": [
    "df5['Facility Count by State'] = count_df['Unique ID']\n",
    "df5 = df5.sort_values(by = 'Facility Count by State', ascending=False)\n",
    "df5 = df5.rename({'Weighted Rank':'Sum of TRI 2014 by State'}, axis = 1)\n",
    "df5 = df5.drop('Size sq mi', axis = 1)"
   ]
  },
  {
   "cell_type": "code",
   "execution_count": 20,
   "metadata": {},
   "outputs": [
    {
     "data": {
      "text/html": [
       "<div>\n",
       "<style scoped>\n",
       "    .dataframe tbody tr th:only-of-type {\n",
       "        vertical-align: middle;\n",
       "    }\n",
       "\n",
       "    .dataframe tbody tr th {\n",
       "        vertical-align: top;\n",
       "    }\n",
       "\n",
       "    .dataframe thead th {\n",
       "        text-align: right;\n",
       "    }\n",
       "</style>\n",
       "<table border=\"1\" class=\"dataframe\">\n",
       "  <thead>\n",
       "    <tr style=\"text-align: right;\">\n",
       "      <th></th>\n",
       "      <th>Sum of TRI 2014 by State</th>\n",
       "      <th>Final Ranking</th>\n",
       "      <th>Facility Count by State</th>\n",
       "    </tr>\n",
       "    <tr>\n",
       "      <th>State</th>\n",
       "      <th></th>\n",
       "      <th></th>\n",
       "      <th></th>\n",
       "    </tr>\n",
       "  </thead>\n",
       "  <tbody>\n",
       "    <tr>\n",
       "      <th>TX</th>\n",
       "      <td>59593.679200</td>\n",
       "      <td>6832.116094</td>\n",
       "      <td>1385</td>\n",
       "    </tr>\n",
       "    <tr>\n",
       "      <th>OH</th>\n",
       "      <td>40873.741243</td>\n",
       "      <td>1122.302204</td>\n",
       "      <td>1003</td>\n",
       "    </tr>\n",
       "    <tr>\n",
       "      <th>CA</th>\n",
       "      <td>22426.968666</td>\n",
       "      <td>184.447021</td>\n",
       "      <td>798</td>\n",
       "    </tr>\n",
       "    <tr>\n",
       "      <th>IL</th>\n",
       "      <td>25467.078530</td>\n",
       "      <td>329.254035</td>\n",
       "      <td>786</td>\n",
       "    </tr>\n",
       "    <tr>\n",
       "      <th>PA</th>\n",
       "      <td>24929.193643</td>\n",
       "      <td>1028.854828</td>\n",
       "      <td>783</td>\n",
       "    </tr>\n",
       "  </tbody>\n",
       "</table>\n",
       "</div>"
      ],
      "text/plain": [
       "       Sum of TRI 2014 by State  Final Ranking  Facility Count by State\n",
       "State                                                                  \n",
       "TX                 59593.679200    6832.116094                     1385\n",
       "OH                 40873.741243    1122.302204                     1003\n",
       "CA                 22426.968666     184.447021                      798\n",
       "IL                 25467.078530     329.254035                      786\n",
       "PA                 24929.193643    1028.854828                      783"
      ]
     },
     "execution_count": 20,
     "metadata": {},
     "output_type": "execute_result"
    }
   ],
   "source": [
    "df5.head()"
   ]
  },
  {
   "cell_type": "code",
   "execution_count": 21,
   "metadata": {},
   "outputs": [
    {
     "ename": "NameError",
     "evalue": "name 'count_df_clean' is not defined",
     "output_type": "error",
     "traceback": [
      "\u001b[1;31m---------------------------------------------------------------------------\u001b[0m",
      "\u001b[1;31mNameError\u001b[0m                                 Traceback (most recent call last)",
      "\u001b[1;32m<ipython-input-21-a0164032cf6d>\u001b[0m in \u001b[0;36m<module>\u001b[1;34m\u001b[0m\n\u001b[1;32m----> 1\u001b[1;33m \u001b[0mcodes\u001b[0m \u001b[1;33m=\u001b[0m \u001b[0mlist\u001b[0m\u001b[1;33m(\u001b[0m\u001b[0mcount_df_clean\u001b[0m\u001b[1;33m.\u001b[0m\u001b[0mindex\u001b[0m\u001b[1;33m)\u001b[0m\u001b[1;33m\u001b[0m\u001b[1;33m\u001b[0m\u001b[0m\n\u001b[0m",
      "\u001b[1;31mNameError\u001b[0m: name 'count_df_clean' is not defined"
     ]
    }
   ],
   "source": [
    "codes = list(count_df_clean.index)"
   ]
  },
  {
   "cell_type": "code",
   "execution_count": 25,
   "metadata": {},
   "outputs": [
    {
     "name": "stdout",
     "output_type": "stream",
     "text": [
      "High five! You successfully sent some data to your account on plotly. View your plot in your browser at https://plot.ly/~ivan.escalona/0 or inside your plot.ly account where it is named 'd3-cloropleth-map'\n"
     ]
    },
    {
     "data": {
      "text/html": [
       "<iframe id=\"igraph\" scrolling=\"no\" style=\"border:none;\" seamless=\"seamless\" src=\"https://plot.ly/~ivan.escalona/0.embed\" height=\"525px\" width=\"100%\"></iframe>"
      ],
      "text/plain": [
       "<plotly.tools.PlotlyDisplay object>"
      ]
     },
     "execution_count": 25,
     "metadata": {},
     "output_type": "execute_result"
    }
   ],
   "source": [
    "import plotly as py\n",
    "import plotly.graph_objs as go\n",
    "import plotly.figure_factory as ff\n",
    "\n",
    "scl = [\n",
    "    [0.0, 'rgb(205,217,239)'],\n",
    "    [0.2, 'rgb(141,169,219)'],\n",
    "    [0.4, 'rgb(83,125,201)'],\n",
    "    [0.6, 'rgb(50,59,158)'],\n",
    "    [0.8, 'rgb(31,55,99)'],\n",
    "    [1.0, 'rgb(15,26,47)']\n",
    "]\n",
    "\n",
    "# df['text'] = df['state'] + '<br>' + \\\n",
    "#     'Beef ' + df['beef'] + ' Dairy ' + df['dairy'] + '<br>' + \\\n",
    "#     'Fruits ' + df['total fruits'] + ' Veggies ' + df['total veggies'] + '<br>' + \\\n",
    "#     'Wheat ' + df['wheat'] + ' Corn ' + df['corn']\n",
    "\n",
    "data = [go.Choropleth(\n",
    "    colorscale = scl,\n",
    "    autocolorscale = False,\n",
    "    locations = df5.index,\n",
    "    z = df5['Facility Count by State'].astype(float),\n",
    "    locationmode = 'USA-states',\n",
    "#     text = 'There were, '+\n",
    "    marker = go.choropleth.Marker(\n",
    "        line = go.choropleth.marker.Line(\n",
    "            color = 'rgb(255,255,255)',\n",
    "            width = 2\n",
    "        )),\n",
    "    colorbar = go.choropleth.ColorBar(\n",
    "        title = \"Number of Facilities by State\")\n",
    ")]\n",
    "\n",
    "layout = go.Layout(\n",
    "    title = go.layout.Title(\n",
    "        text = '2014 TRI Reporting Facility Count by State'\n",
    "    ),\n",
    "    geo = go.layout.Geo(\n",
    "        scope = 'usa',\n",
    "        projection = go.layout.geo.Projection(type = 'albers usa'),\n",
    "        showlakes = True,\n",
    "        lakecolor = 'rgb(255, 255, 255)'),\n",
    ")\n",
    "py.tools.set_credentials_file(username='ivan.escalona', api_key='fQu1m9ETBn8NRAiOK7CW')\n",
    "fig = go.Figure(data = data, layout = layout)\n",
    "py.plotly.iplot(fig, filename = 'd3-cloropleth-map', file_id = 'jpg')"
   ]
  },
  {
   "cell_type": "code",
   "execution_count": 26,
   "metadata": {},
   "outputs": [
    {
     "name": "stdout",
     "output_type": "stream",
     "text": [
      "High five! You successfully sent some data to your account on plotly. View your plot in your browser at https://plot.ly/~ivan.escalona/0 or inside your plot.ly account where it is named 'd3-cloropleth-map'\n"
     ]
    },
    {
     "data": {
      "text/html": [
       "<iframe id=\"igraph\" scrolling=\"no\" style=\"border:none;\" seamless=\"seamless\" src=\"https://plot.ly/~ivan.escalona/0.embed\" height=\"525px\" width=\"100%\"></iframe>"
      ],
      "text/plain": [
       "<plotly.tools.PlotlyDisplay object>"
      ]
     },
     "execution_count": 26,
     "metadata": {},
     "output_type": "execute_result"
    }
   ],
   "source": [
    "import plotly as py\n",
    "import plotly.graph_objs as go\n",
    "\n",
    "scl = [\n",
    "    [0.0, 'rgb(205,217,239)'],\n",
    "    [0.2, 'rgb(141,169,219)'],\n",
    "    [0.4, 'rgb(83,125,201)'],\n",
    "    [0.6, 'rgb(50,59,158)'],\n",
    "    [0.8, 'rgb(31,55,99)'],\n",
    "    [1.0, 'rgb(15,26,47)']\n",
    "]\n",
    "\n",
    "# df['text'] = df['state'] + '<br>' + \\\n",
    "#     'Beef ' + df['beef'] + ' Dairy ' + df['dairy'] + '<br>' + \\\n",
    "#     'Fruits ' + df['total fruits'] + ' Veggies ' + df['total veggies'] + '<br>' + \\\n",
    "#     'Wheat ' + df['wheat'] + ' Corn ' + df['corn']\n",
    "\n",
    "data = [go.Choropleth(\n",
    "    colorscale = scl,\n",
    "    autocolorscale = False,\n",
    "    locations = df5.index,\n",
    "    z = df5['Sum of TRI 2014 by State'].astype(float),\n",
    "    locationmode = 'USA-states',\n",
    "#     text = 'There were, '+\n",
    "    marker = go.choropleth.Marker(\n",
    "        line = go.choropleth.marker.Line(\n",
    "            color = 'rgb(255,255,255)',\n",
    "            width = 2\n",
    "        )),\n",
    "    colorbar = go.choropleth.ColorBar(\n",
    "        title = \"Global TRI by State\")\n",
    ")]\n",
    "\n",
    "layout = go.Layout(\n",
    "    title = go.layout.Title(\n",
    "        text = '2014 TRI Reporting - Global TRI by State'\n",
    "    ),\n",
    "    geo = go.layout.Geo(\n",
    "        scope = 'usa',\n",
    "        projection = go.layout.geo.Projection(type = 'albers usa'),\n",
    "        showlakes = True,\n",
    "        lakecolor = 'rgb(255, 255, 255)'),\n",
    ")\n",
    "py.tools.set_credentials_file(username='ivan.escalona', api_key='fQu1m9ETBn8NRAiOK7CW')\n",
    "fig = go.Figure(data = data, layout = layout)\n",
    "py.plotly.iplot(fig, filename = 'd3-cloropleth-map', file_id = 'jpg')"
   ]
  },
  {
   "cell_type": "code",
   "execution_count": 27,
   "metadata": {},
   "outputs": [
    {
     "name": "stdout",
     "output_type": "stream",
     "text": [
      "High five! You successfully sent some data to your account on plotly. View your plot in your browser at https://plot.ly/~ivan.escalona/0 or inside your plot.ly account where it is named 'd3-cloropleth-map'\n"
     ]
    },
    {
     "data": {
      "text/html": [
       "<iframe id=\"igraph\" scrolling=\"no\" style=\"border:none;\" seamless=\"seamless\" src=\"https://plot.ly/~ivan.escalona/0.embed\" height=\"525px\" width=\"100%\"></iframe>"
      ],
      "text/plain": [
       "<plotly.tools.PlotlyDisplay object>"
      ]
     },
     "execution_count": 27,
     "metadata": {},
     "output_type": "execute_result"
    }
   ],
   "source": [
    "import plotly as py\n",
    "import plotly.graph_objs as go\n",
    "\n",
    "scl = [\n",
    "    [0.0, 'rgb(205,217,239)'],\n",
    "    [0.2, 'rgb(141,169,219)'],\n",
    "    [0.4, 'rgb(83,125,201)'],\n",
    "    [0.6, 'rgb(50,59,158)'],\n",
    "    [0.8, 'rgb(31,55,99)'],\n",
    "    [1.0, 'rgb(15,26,47)']\n",
    "]\n",
    "\n",
    "# df['text'] = df['state'] + '<br>' + \\\n",
    "#     'Beef ' + df['beef'] + ' Dairy ' + df['dairy'] + '<br>' + \\\n",
    "#     'Fruits ' + df['total fruits'] + ' Veggies ' + df['total veggies'] + '<br>' + \\\n",
    "#     'Wheat ' + df['wheat'] + ' Corn ' + df['corn']\n",
    "\n",
    "data = [go.Choropleth(\n",
    "    colorscale = scl,\n",
    "    autocolorscale = False,\n",
    "    locations = df5.index,\n",
    "    z = df5['Final Ranking'].astype(float),\n",
    "    locationmode = 'USA-states',\n",
    "#     text = 'There were, '+\n",
    "    marker = go.choropleth.Marker(\n",
    "        line = go.choropleth.marker.Line(\n",
    "            color = 'rgb(255,255,255)',\n",
    "            width = 2\n",
    "        )),\n",
    "    colorbar = go.choropleth.ColorBar(\n",
    "        title = \"Normalized TRI by State\")\n",
    ")]\n",
    "\n",
    "layout = go.Layout(\n",
    "    title = go.layout.Title(\n",
    "        text = '2014 TRI Reporting - Normalized TRI by State'\n",
    "    ),\n",
    "    geo = go.layout.Geo(\n",
    "        scope = 'usa',\n",
    "        projection = go.layout.geo.Projection(type = 'albers usa'),\n",
    "        showlakes = True,\n",
    "        lakecolor = 'rgb(255, 255, 255)'),\n",
    ")\n",
    "py.tools.set_credentials_file(username='ivan.escalona', api_key='fQu1m9ETBn8NRAiOK7CW')\n",
    "fig = go.Figure(data = data, layout = layout)\n",
    "py.plotly.iplot(fig, filename = 'd3-cloropleth-map', file_id = 'png')"
   ]
  },
  {
   "cell_type": "code",
   "execution_count": 34,
   "metadata": {},
   "outputs": [],
   "source": [
    "%run Wisconsin_df.ipynb"
   ]
  },
  {
   "cell_type": "code",
   "execution_count": 36,
   "metadata": {},
   "outputs": [
    {
     "data": {
      "text/plain": [
       "72"
      ]
     },
     "execution_count": 36,
     "metadata": {},
     "output_type": "execute_result"
    }
   ],
   "source": [
    "len(fips)"
   ]
  },
  {
   "cell_type": "code",
   "execution_count": 68,
   "metadata": {},
   "outputs": [
    {
     "data": {
      "text/html": [
       "<div>\n",
       "<style scoped>\n",
       "    .dataframe tbody tr th:only-of-type {\n",
       "        vertical-align: middle;\n",
       "    }\n",
       "\n",
       "    .dataframe tbody tr th {\n",
       "        vertical-align: top;\n",
       "    }\n",
       "\n",
       "    .dataframe thead th {\n",
       "        text-align: right;\n",
       "    }\n",
       "</style>\n",
       "<table border=\"1\" class=\"dataframe\">\n",
       "  <thead>\n",
       "    <tr style=\"text-align: right;\">\n",
       "      <th></th>\n",
       "      <th>County</th>\n",
       "      <th>Value</th>\n",
       "      <th>Weighted Rank</th>\n",
       "      <th>Final Ranking</th>\n",
       "      <th>FIPS</th>\n",
       "    </tr>\n",
       "  </thead>\n",
       "  <tbody>\n",
       "    <tr>\n",
       "      <th>0</th>\n",
       "      <td>ADAMS</td>\n",
       "      <td>645.65</td>\n",
       "      <td>9.932</td>\n",
       "      <td>1.538295</td>\n",
       "      <td>55001</td>\n",
       "    </tr>\n",
       "    <tr>\n",
       "      <th>1</th>\n",
       "      <td>ASHLAND</td>\n",
       "      <td>1045.04</td>\n",
       "      <td>31.988</td>\n",
       "      <td>3.060935</td>\n",
       "      <td>55003</td>\n",
       "    </tr>\n",
       "    <tr>\n",
       "      <th>2</th>\n",
       "      <td>BARRON</td>\n",
       "      <td>862.71</td>\n",
       "      <td>702.189</td>\n",
       "      <td>81.393400</td>\n",
       "      <td>55005</td>\n",
       "    </tr>\n",
       "    <tr>\n",
       "      <th>3</th>\n",
       "      <td>BAYFIELD</td>\n",
       "      <td>1477.86</td>\n",
       "      <td>0.000</td>\n",
       "      <td>0.000000</td>\n",
       "      <td>55007</td>\n",
       "    </tr>\n",
       "    <tr>\n",
       "      <th>4</th>\n",
       "      <td>BROWN</td>\n",
       "      <td>529.71</td>\n",
       "      <td>8785.226</td>\n",
       "      <td>1658.497291</td>\n",
       "      <td>55009</td>\n",
       "    </tr>\n",
       "  </tbody>\n",
       "</table>\n",
       "</div>"
      ],
      "text/plain": [
       "     County    Value  Weighted Rank  Final Ranking   FIPS\n",
       "0     ADAMS   645.65          9.932       1.538295  55001\n",
       "1   ASHLAND  1045.04         31.988       3.060935  55003\n",
       "2    BARRON   862.71        702.189      81.393400  55005\n",
       "3  BAYFIELD  1477.86          0.000       0.000000  55007\n",
       "4     BROWN   529.71       8785.226    1658.497291  55009"
      ]
     },
     "execution_count": 68,
     "metadata": {},
     "output_type": "execute_result"
    }
   ],
   "source": [
    "wi_df['FIPS'] = fips\n",
    "pd.to_numeric(wi_df['Value'])\n",
    "pd.to_numeric(wi_df['Weighted Rank']) \n",
    "pd.to_numeric(wi_df['Final Ranking'])\n",
    "wi_df.head()"
   ]
  },
  {
   "cell_type": "code",
   "execution_count": 69,
   "metadata": {},
   "outputs": [
    {
     "name": "stdout",
     "output_type": "stream",
     "text": [
      "262.6\n"
     ]
    }
   ],
   "source": [
    "a = pd.to_numeric(wi_df['Value']).min()\n",
    "b = pd.to_numeric(wi_df['Value']).max()\n",
    "c = (b-a)/5\n",
    "print(c)"
   ]
  },
  {
   "cell_type": "code",
   "execution_count": 70,
   "metadata": {},
   "outputs": [],
   "source": [
    "d = list(np.arange(a,b,c))"
   ]
  },
  {
   "cell_type": "code",
   "execution_count": 71,
   "metadata": {},
   "outputs": [
    {
     "name": "stderr",
     "output_type": "stream",
     "text": [
      "C:\\Users\\ieeff\\Anaconda3_new\\lib\\site-packages\\pandas\\core\\frame.py:6211: FutureWarning:\n",
      "\n",
      "Sorting because non-concatenation axis is not aligned. A future version\n",
      "of pandas will change to not sort by default.\n",
      "\n",
      "To accept the future behavior, pass 'sort=False'.\n",
      "\n",
      "To retain the current behavior and silence the warning, pass 'sort=True'.\n",
      "\n",
      "\n"
     ]
    },
    {
     "ename": "TypeError",
     "evalue": "'<' not supported between instances of 'float' and 'str'",
     "output_type": "error",
     "traceback": [
      "\u001b[1;31m---------------------------------------------------------------------------\u001b[0m",
      "\u001b[1;31mTypeError\u001b[0m                                 Traceback (most recent call last)",
      "\u001b[1;32m<ipython-input-71-87827a502276>\u001b[0m in \u001b[0;36m<module>\u001b[1;34m\u001b[0m\n\u001b[0;32m     15\u001b[0m     \u001b[0mbinning_endpoints\u001b[0m\u001b[1;33m=\u001b[0m \u001b[0md\u001b[0m\u001b[1;33m,\u001b[0m \u001b[0mcolorscale\u001b[0m\u001b[1;33m=\u001b[0m\u001b[0mcolorscale\u001b[0m\u001b[1;33m,\u001b[0m\u001b[1;33m\u001b[0m\u001b[1;33m\u001b[0m\u001b[0m\n\u001b[0;32m     16\u001b[0m     \u001b[0mcounty_outline\u001b[0m\u001b[1;33m=\u001b[0m\u001b[1;33m{\u001b[0m\u001b[1;34m'color'\u001b[0m\u001b[1;33m:\u001b[0m \u001b[1;34m'rgb(255,255,255)'\u001b[0m\u001b[1;33m,\u001b[0m \u001b[1;34m'width'\u001b[0m\u001b[1;33m:\u001b[0m \u001b[1;36m0.5\u001b[0m\u001b[1;33m}\u001b[0m\u001b[1;33m,\u001b[0m \u001b[0mround_legend_values\u001b[0m\u001b[1;33m=\u001b[0m\u001b[1;32mTrue\u001b[0m\u001b[1;33m,\u001b[0m\u001b[1;33m\u001b[0m\u001b[1;33m\u001b[0m\u001b[0m\n\u001b[1;32m---> 17\u001b[1;33m     \u001b[0mlegend_title\u001b[0m\u001b[1;33m=\u001b[0m\u001b[1;34m'Population by County'\u001b[0m\u001b[1;33m,\u001b[0m \u001b[0mtitle\u001b[0m\u001b[1;33m=\u001b[0m\u001b[1;34m'Wisconsin and Nearby States'\u001b[0m\u001b[1;33m\u001b[0m\u001b[1;33m\u001b[0m\u001b[0m\n\u001b[0m\u001b[0;32m     18\u001b[0m )\n\u001b[0;32m     19\u001b[0m \u001b[0mpy\u001b[0m\u001b[1;33m.\u001b[0m\u001b[0mtools\u001b[0m\u001b[1;33m.\u001b[0m\u001b[0mset_credentials_file\u001b[0m\u001b[1;33m(\u001b[0m\u001b[0musername\u001b[0m\u001b[1;33m=\u001b[0m\u001b[1;34m'ivan.escalona'\u001b[0m\u001b[1;33m,\u001b[0m \u001b[0mapi_key\u001b[0m\u001b[1;33m=\u001b[0m\u001b[1;34m'fQu1m9ETBn8NRAiOK7CW'\u001b[0m\u001b[1;33m)\u001b[0m\u001b[1;33m\u001b[0m\u001b[1;33m\u001b[0m\u001b[0m\n",
      "\u001b[1;32m~\\Anaconda3_new\\lib\\site-packages\\plotly\\figure_factory\\_county_choropleth.py\u001b[0m in \u001b[0;36mcreate_choropleth\u001b[1;34m(fips, values, scope, binning_endpoints, colorscale, order, simplify_county, simplify_state, asp, show_hover, show_state_data, state_outline, county_outline, centroid_marker, round_legend_values, exponent_format, legend_title, **layout_options)\u001b[0m\n\u001b[0;32m    744\u001b[0m         \u001b[1;32mfor\u001b[0m \u001b[0mindex\u001b[0m\u001b[1;33m,\u001b[0m \u001b[0mf\u001b[0m \u001b[1;32min\u001b[0m \u001b[0menumerate\u001b[0m\u001b[1;33m(\u001b[0m\u001b[0mfips\u001b[0m\u001b[1;33m)\u001b[0m\u001b[1;33m:\u001b[0m\u001b[1;33m\u001b[0m\u001b[1;33m\u001b[0m\u001b[0m\n\u001b[0;32m    745\u001b[0m             \u001b[1;32mfor\u001b[0m \u001b[0mj\u001b[0m\u001b[1;33m,\u001b[0m \u001b[0minter\u001b[0m \u001b[1;32min\u001b[0m \u001b[0menumerate\u001b[0m\u001b[1;33m(\u001b[0m\u001b[0mintervals\u001b[0m\u001b[1;33m)\u001b[0m\u001b[1;33m:\u001b[0m\u001b[1;33m\u001b[0m\u001b[1;33m\u001b[0m\u001b[0m\n\u001b[1;32m--> 746\u001b[1;33m                 \u001b[1;32mif\u001b[0m \u001b[0minter\u001b[0m\u001b[1;33m[\u001b[0m\u001b[1;36m0\u001b[0m\u001b[1;33m]\u001b[0m \u001b[1;33m<\u001b[0m \u001b[0mvalues\u001b[0m\u001b[1;33m[\u001b[0m\u001b[0mindex\u001b[0m\u001b[1;33m]\u001b[0m \u001b[1;33m<=\u001b[0m \u001b[0minter\u001b[0m\u001b[1;33m[\u001b[0m\u001b[1;36m1\u001b[0m\u001b[1;33m]\u001b[0m\u001b[1;33m:\u001b[0m\u001b[1;33m\u001b[0m\u001b[1;33m\u001b[0m\u001b[0m\n\u001b[0m\u001b[0;32m    747\u001b[0m                     \u001b[1;32mbreak\u001b[0m\u001b[1;33m\u001b[0m\u001b[1;33m\u001b[0m\u001b[0m\n\u001b[0;32m    748\u001b[0m             \u001b[0mlevel\u001b[0m \u001b[1;33m=\u001b[0m \u001b[0mLEVELS\u001b[0m\u001b[1;33m[\u001b[0m\u001b[0mj\u001b[0m\u001b[1;33m]\u001b[0m\u001b[1;33m\u001b[0m\u001b[1;33m\u001b[0m\u001b[0m\n",
      "\u001b[1;31mTypeError\u001b[0m: '<' not supported between instances of 'float' and 'str'"
     ]
    }
   ],
   "source": [
    "\n",
    "\n",
    "\n",
    "colorscale = [\n",
    "    'rgb(193, 193, 193)',\n",
    "    'rgb(239,239,239)',\n",
    "    'rgb(195, 196, 222)',\n",
    "    'rgb(144,148,194)',\n",
    "    'rgb(101,104,168)',\n",
    "    'rgb(65, 53, 132)'\n",
    "]\n",
    "\n",
    "fig = ff.create_choropleth(\n",
    "    fips=wi_df['FIPS'], values= wi_df['Value'], scope=['WI'],\n",
    "    binning_endpoints= d, colorscale=colorscale,\n",
    "    county_outline={'color': 'rgb(255,255,255)', 'width': 0.5}, round_legend_values=True,\n",
    "    legend_title='Population by County', title='Wisconsin and Nearby States'\n",
    ")\n",
    "py.tools.set_credentials_file(username='ivan.escalona', api_key='fQu1m9ETBn8NRAiOK7CW')\n",
    "py.plotly.iplot(fig, filename='choropleth_wisconsin_and_surr_states_outlines')"
   ]
  },
  {
   "cell_type": "code",
   "execution_count": null,
   "metadata": {},
   "outputs": [],
   "source": []
  }
 ],
 "metadata": {
  "kernelspec": {
   "display_name": "Python 3",
   "language": "python",
   "name": "python3"
  },
  "language_info": {
   "codemirror_mode": {
    "name": "ipython",
    "version": 3
   },
   "file_extension": ".py",
   "mimetype": "text/x-python",
   "name": "python",
   "nbconvert_exporter": "python",
   "pygments_lexer": "ipython3",
   "version": "3.7.1"
  }
 },
 "nbformat": 4,
 "nbformat_minor": 2
}
