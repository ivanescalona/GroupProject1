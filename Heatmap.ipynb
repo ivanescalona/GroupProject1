{
 "cells": [
  {
   "cell_type": "code",
   "execution_count": 1,
   "metadata": {},
   "outputs": [],
   "source": [
    "import pandas as pd\n"
   ]
  },
  {
   "cell_type": "code",
   "execution_count": 2,
   "metadata": {},
   "outputs": [
    {
     "name": "stderr",
     "output_type": "stream",
     "text": [
      "facilities_df.ipynb:4: SettingWithCopyWarning: \n",
      "A value is trying to be set on a copy of a slice from a DataFrame\n",
      "\n",
      "See the caveats in the documentation: http://pandas.pydata.org/pandas-docs/stable/indexing.html#indexing-view-versus-copy\n",
      "  \"cell_type\": \"code\",\n",
      "facilities_df.ipynb:1: SettingWithCopyWarning: \n",
      "A value is trying to be set on a copy of a slice from a DataFrame\n",
      "\n",
      "See the caveats in the documentation: http://pandas.pydata.org/pandas-docs/stable/indexing.html#indexing-view-versus-copy\n",
      "  {\n",
      "facilities_df.ipynb:2: SettingWithCopyWarning: \n",
      "A value is trying to be set on a copy of a slice from a DataFrame\n",
      "\n",
      "See the caveats in the documentation: http://pandas.pydata.org/pandas-docs/stable/indexing.html#indexing-view-versus-copy\n",
      "  \"cells\": [\n"
     ]
    },
    {
     "name": "stdout",
     "output_type": "stream",
     "text": [
      "['AK', 'TX', 'CA', 'MT', 'NM', 'AZ', 'NV', 'CO', 'OR', 'WY', 'MI', 'MN', 'UT', 'ID', 'KS', 'NE', 'SD', 'WA', 'ND', 'OK', 'MO', 'FL', 'WI', 'GA', 'IL', 'IA', 'NY', 'NC', 'AR', 'AL', 'LA', 'MS', 'PA', 'OH', 'VA', 'TN', 'KY', 'IN', 'ME', 'SC', 'WV', 'MD', 'HI', 'MA', 'VT', 'NH', 'NJ', 'CT', 'DE', 'RI', 'DC', 'PR', 'MP', 'VI', 'AS', 'GU']\n"
     ]
    }
   ],
   "source": [
    "%run facilities_df.ipynb"
   ]
  },
  {
   "cell_type": "code",
   "execution_count": 3,
   "metadata": {},
   "outputs": [],
   "source": [
    "codes = ['AK', 'TX', 'CA', 'MT', 'NM', 'AZ', 'NV', 'CO', 'OR', 'WY', 'MI', 'MN', 'UT', 'ID', 'KS', 'NE', 'SD', 'WA', 'ND', 'OK', 'MO', 'FL', 'WI', 'GA', 'IL', 'IA', 'NY', 'NC', 'AR', 'AL', 'LA', 'MS', 'PA', 'OH', 'VA', 'TN', 'KY', 'IN', 'ME', 'SC', 'WV', 'MD', 'HI', 'MA', 'VT', 'NH', 'NJ', 'CT', 'DE', 'RI', 'DC', 'PR', 'MP', 'VI', 'AS', 'GU']"
   ]
  },
  {
   "cell_type": "code",
   "execution_count": 4,
   "metadata": {},
   "outputs": [],
   "source": [
    "df5['Facility Count by State'] = count_df['Unique ID']\n",
    "df5 = df5.sort_values(by = 'Facility Count by State', ascending=False)\n",
    "df5 = df5.rename({'Weighted Rank':'Sum of TRI 2014 by State'}, axis = 1)\n",
    "df5 = df5.drop('Size sq mi', axis = 1)"
   ]
  },
  {
   "cell_type": "code",
   "execution_count": 5,
   "metadata": {},
   "outputs": [
    {
     "data": {
      "text/html": [
       "<div>\n",
       "<style scoped>\n",
       "    .dataframe tbody tr th:only-of-type {\n",
       "        vertical-align: middle;\n",
       "    }\n",
       "\n",
       "    .dataframe tbody tr th {\n",
       "        vertical-align: top;\n",
       "    }\n",
       "\n",
       "    .dataframe thead th {\n",
       "        text-align: right;\n",
       "    }\n",
       "</style>\n",
       "<table border=\"1\" class=\"dataframe\">\n",
       "  <thead>\n",
       "    <tr style=\"text-align: right;\">\n",
       "      <th></th>\n",
       "      <th>Sum of TRI 2014 by State</th>\n",
       "      <th>Final Ranking</th>\n",
       "      <th>Facility Count by State</th>\n",
       "    </tr>\n",
       "    <tr>\n",
       "      <th>State</th>\n",
       "      <th></th>\n",
       "      <th></th>\n",
       "      <th></th>\n",
       "    </tr>\n",
       "  </thead>\n",
       "  <tbody>\n",
       "    <tr>\n",
       "      <th>TX</th>\n",
       "      <td>59593.679200</td>\n",
       "      <td>6832.116094</td>\n",
       "      <td>1385</td>\n",
       "    </tr>\n",
       "    <tr>\n",
       "      <th>OH</th>\n",
       "      <td>40873.741243</td>\n",
       "      <td>1122.302204</td>\n",
       "      <td>1003</td>\n",
       "    </tr>\n",
       "    <tr>\n",
       "      <th>CA</th>\n",
       "      <td>22426.968666</td>\n",
       "      <td>184.447021</td>\n",
       "      <td>798</td>\n",
       "    </tr>\n",
       "    <tr>\n",
       "      <th>IL</th>\n",
       "      <td>25467.078530</td>\n",
       "      <td>329.254035</td>\n",
       "      <td>786</td>\n",
       "    </tr>\n",
       "    <tr>\n",
       "      <th>PA</th>\n",
       "      <td>24929.193643</td>\n",
       "      <td>1028.854828</td>\n",
       "      <td>783</td>\n",
       "    </tr>\n",
       "  </tbody>\n",
       "</table>\n",
       "</div>"
      ],
      "text/plain": [
       "       Sum of TRI 2014 by State  Final Ranking  Facility Count by State\n",
       "State                                                                  \n",
       "TX                 59593.679200    6832.116094                     1385\n",
       "OH                 40873.741243    1122.302204                     1003\n",
       "CA                 22426.968666     184.447021                      798\n",
       "IL                 25467.078530     329.254035                      786\n",
       "PA                 24929.193643    1028.854828                      783"
      ]
     },
     "execution_count": 5,
     "metadata": {},
     "output_type": "execute_result"
    }
   ],
   "source": [
    "df5.head()"
   ]
  },
  {
   "cell_type": "code",
   "execution_count": 6,
   "metadata": {},
   "outputs": [
    {
     "ename": "NameError",
     "evalue": "name 'count_df_clean' is not defined",
     "output_type": "error",
     "traceback": [
      "\u001b[1;31m---------------------------------------------------------------------------\u001b[0m",
      "\u001b[1;31mNameError\u001b[0m                                 Traceback (most recent call last)",
      "\u001b[1;32m<ipython-input-6-a0164032cf6d>\u001b[0m in \u001b[0;36m<module>\u001b[1;34m\u001b[0m\n\u001b[1;32m----> 1\u001b[1;33m \u001b[0mcodes\u001b[0m \u001b[1;33m=\u001b[0m \u001b[0mlist\u001b[0m\u001b[1;33m(\u001b[0m\u001b[0mcount_df_clean\u001b[0m\u001b[1;33m.\u001b[0m\u001b[0mindex\u001b[0m\u001b[1;33m)\u001b[0m\u001b[1;33m\u001b[0m\u001b[1;33m\u001b[0m\u001b[0m\n\u001b[0m",
      "\u001b[1;31mNameError\u001b[0m: name 'count_df_clean' is not defined"
     ]
    }
   ],
   "source": [
    "codes = list(count_df_clean.index)"
   ]
  },
  {
   "cell_type": "code",
   "execution_count": 7,
   "metadata": {},
   "outputs": [
    {
     "name": "stdout",
     "output_type": "stream",
     "text": [
      "High five! You successfully sent some data to your account on plotly. View your plot in your browser at https://plot.ly/~ivan.escalona/0 or inside your plot.ly account where it is named 'd3-cloropleth-map'\n"
     ]
    },
    {
     "name": "stderr",
     "output_type": "stream",
     "text": [
      "C:\\Users\\ieeff\\Anaconda3_new\\lib\\site-packages\\IPython\\core\\display.py:689: UserWarning:\n",
      "\n",
      "Consider using IPython.display.IFrame instead\n",
      "\n"
     ]
    },
    {
     "data": {
      "text/html": [
       "<iframe id=\"igraph\" scrolling=\"no\" style=\"border:none;\" seamless=\"seamless\" src=\"https://plot.ly/~ivan.escalona/0.embed\" height=\"525px\" width=\"100%\"></iframe>"
      ],
      "text/plain": [
       "<plotly.tools.PlotlyDisplay object>"
      ]
     },
     "execution_count": 7,
     "metadata": {},
     "output_type": "execute_result"
    }
   ],
   "source": [
    "import plotly as py\n",
    "import plotly.graph_objs as go\n",
    "import plotly.figure_factory as ff\n",
    "\n",
    "scl = [\n",
    "    [0.0, 'rgb(205,217,239)'],\n",
    "    [0.2, 'rgb(141,169,219)'],\n",
    "    [0.4, 'rgb(83,125,201)'],\n",
    "    [0.6, 'rgb(50,59,158)'],\n",
    "    [0.8, 'rgb(31,55,99)'],\n",
    "    [1.0, 'rgb(15,26,47)']\n",
    "]\n",
    "\n",
    "# df['text'] = df['state'] + '<br>' + \\\n",
    "#     'Beef ' + df['beef'] + ' Dairy ' + df['dairy'] + '<br>' + \\\n",
    "#     'Fruits ' + df['total fruits'] + ' Veggies ' + df['total veggies'] + '<br>' + \\\n",
    "#     'Wheat ' + df['wheat'] + ' Corn ' + df['corn']\n",
    "\n",
    "data = [go.Choropleth(\n",
    "    colorscale = scl,\n",
    "    autocolorscale = False,\n",
    "    locations = codes,\n",
    "    z = df5['Facility Count by State'].astype(float),\n",
    "    locationmode = 'USA-states',\n",
    "#     text = 'There were, '+\n",
    "    marker = go.choropleth.Marker(\n",
    "        line = go.choropleth.marker.Line(\n",
    "            color = 'rgb(255,255,255)',\n",
    "            width = 2\n",
    "        )),\n",
    "    colorbar = go.choropleth.ColorBar(\n",
    "        title = \"Number of Facilities by State\")\n",
    ")]\n",
    "\n",
    "layout = go.Layout(\n",
    "    title = go.layout.Title(\n",
    "        text = '2014 TRI Reporting Facility Count by State'\n",
    "    ),\n",
    "    geo = go.layout.Geo(\n",
    "        scope = 'usa',\n",
    "        projection = go.layout.geo.Projection(type = 'albers usa'),\n",
    "        showlakes = True,\n",
    "        lakecolor = 'rgb(255, 255, 255)'),\n",
    ")\n",
    "py.tools.set_credentials_file(username='ivan.escalona', api_key='fQu1m9ETBn8NRAiOK7CW')\n",
    "fig = go.Figure(data = data, layout = layout)\n",
    "py.plotly.iplot(fig, filename = 'd3-cloropleth-map', file_id = 'jpg')"
   ]
  },
  {
   "cell_type": "code",
   "execution_count": 8,
   "metadata": {},
   "outputs": [
    {
     "name": "stdout",
     "output_type": "stream",
     "text": [
      "High five! You successfully sent some data to your account on plotly. View your plot in your browser at https://plot.ly/~ivan.escalona/0 or inside your plot.ly account where it is named 'd3-cloropleth-map'\n"
     ]
    },
    {
     "data": {
      "text/html": [
       "<iframe id=\"igraph\" scrolling=\"no\" style=\"border:none;\" seamless=\"seamless\" src=\"https://plot.ly/~ivan.escalona/0.embed\" height=\"525px\" width=\"100%\"></iframe>"
      ],
      "text/plain": [
       "<plotly.tools.PlotlyDisplay object>"
      ]
     },
     "execution_count": 8,
     "metadata": {},
     "output_type": "execute_result"
    }
   ],
   "source": [
    "import plotly as py\n",
    "import plotly.graph_objs as go\n",
    "\n",
    "scl = [\n",
    "    [0.0, 'rgb(205,217,239)'],\n",
    "    [0.2, 'rgb(141,169,219)'],\n",
    "    [0.4, 'rgb(83,125,201)'],\n",
    "    [0.6, 'rgb(50,59,158)'],\n",
    "    [0.8, 'rgb(31,55,99)'],\n",
    "    [1.0, 'rgb(15,26,47)']\n",
    "]\n",
    "\n",
    "# df['text'] = df['state'] + '<br>' + \\\n",
    "#     'Beef ' + df['beef'] + ' Dairy ' + df['dairy'] + '<br>' + \\\n",
    "#     'Fruits ' + df['total fruits'] + ' Veggies ' + df['total veggies'] + '<br>' + \\\n",
    "#     'Wheat ' + df['wheat'] + ' Corn ' + df['corn']\n",
    "\n",
    "data = [go.Choropleth(\n",
    "    colorscale = scl,\n",
    "    autocolorscale = False,\n",
    "    locations = codes,\n",
    "    z = df5['Sum of TRI 2014 by State'].astype(float),\n",
    "    locationmode = 'USA-states',\n",
    "#     text = 'There were, '+\n",
    "    marker = go.choropleth.Marker(\n",
    "        line = go.choropleth.marker.Line(\n",
    "            color = 'rgb(255,255,255)',\n",
    "            width = 2\n",
    "        )),\n",
    "    colorbar = go.choropleth.ColorBar(\n",
    "        title = \"Global TRI by State\")\n",
    ")]\n",
    "\n",
    "layout = go.Layout(\n",
    "    title = go.layout.Title(\n",
    "        text = '2014 TRI Reporting - Global TRI by State'\n",
    "    ),\n",
    "    geo = go.layout.Geo(\n",
    "        scope = 'usa',\n",
    "        projection = go.layout.geo.Projection(type = 'albers usa'),\n",
    "        showlakes = True,\n",
    "        lakecolor = 'rgb(255, 255, 255)'),\n",
    ")\n",
    "py.tools.set_credentials_file(username='ivan.escalona', api_key='fQu1m9ETBn8NRAiOK7CW')\n",
    "fig = go.Figure(data = data, layout = layout)\n",
    "py.plotly.iplot(fig, filename = 'd3-cloropleth-map', file_id = 'jpg')"
   ]
  },
  {
   "cell_type": "code",
   "execution_count": 9,
   "metadata": {},
   "outputs": [
    {
     "name": "stdout",
     "output_type": "stream",
     "text": [
      "High five! You successfully sent some data to your account on plotly. View your plot in your browser at https://plot.ly/~ivan.escalona/0 or inside your plot.ly account where it is named 'd3-cloropleth-map'\n"
     ]
    },
    {
     "data": {
      "text/html": [
       "<iframe id=\"igraph\" scrolling=\"no\" style=\"border:none;\" seamless=\"seamless\" src=\"https://plot.ly/~ivan.escalona/0.embed\" height=\"525px\" width=\"100%\"></iframe>"
      ],
      "text/plain": [
       "<plotly.tools.PlotlyDisplay object>"
      ]
     },
     "execution_count": 9,
     "metadata": {},
     "output_type": "execute_result"
    }
   ],
   "source": [
    "import plotly as py\n",
    "import plotly.graph_objs as go\n",
    "\n",
    "scl = [\n",
    "    [0.0, 'rgb(205,217,239)'],\n",
    "    [0.2, 'rgb(141,169,219)'],\n",
    "    [0.4, 'rgb(83,125,201)'],\n",
    "    [0.6, 'rgb(50,59,158)'],\n",
    "    [0.8, 'rgb(31,55,99)'],\n",
    "    [1.0, 'rgb(15,26,47)']\n",
    "]\n",
    "\n",
    "# df['text'] = df['state'] + '<br>' + \\\n",
    "#     'Beef ' + df['beef'] + ' Dairy ' + df['dairy'] + '<br>' + \\\n",
    "#     'Fruits ' + df['total fruits'] + ' Veggies ' + df['total veggies'] + '<br>' + \\\n",
    "#     'Wheat ' + df['wheat'] + ' Corn ' + df['corn']\n",
    "\n",
    "data = [go.Choropleth(\n",
    "    colorscale = scl,\n",
    "    autocolorscale = False,\n",
    "    locations = codes,\n",
    "    z = df5['Final Ranking'].astype(float),\n",
    "    locationmode = 'USA-states',\n",
    "#     text = 'There were, '+\n",
    "    marker = go.choropleth.Marker(\n",
    "        line = go.choropleth.marker.Line(\n",
    "            color = 'rgb(255,255,255)',\n",
    "            width = 2\n",
    "        )),\n",
    "    colorbar = go.choropleth.ColorBar(\n",
    "        title = \"Normalized TRI by State\")\n",
    ")]\n",
    "\n",
    "layout = go.Layout(\n",
    "    title = go.layout.Title(\n",
    "        text = '2014 TRI Reporting - Normalized TRI by State'\n",
    "    ),\n",
    "    geo = go.layout.Geo(\n",
    "        scope = 'usa',\n",
    "        projection = go.layout.geo.Projection(type = 'albers usa'),\n",
    "        showlakes = True,\n",
    "        lakecolor = 'rgb(255, 255, 255)'),\n",
    ")\n",
    "py.tools.set_credentials_file(username='ivan.escalona', api_key='fQu1m9ETBn8NRAiOK7CW')\n",
    "fig = go.Figure(data = data, layout = layout)\n",
    "py.plotly.iplot(fig, filename = 'd3-cloropleth-map', file_id = 'jpg')"
   ]
  },
  {
   "cell_type": "code",
   "execution_count": 15,
   "metadata": {},
   "outputs": [],
   "source": [
    "%run Wisconsin_df.ipynb"
   ]
  },
  {
   "cell_type": "code",
   "execution_count": null,
   "metadata": {},
   "outputs": [],
   "source": []
  },
  {
   "cell_type": "code",
   "execution_count": 14,
   "metadata": {},
   "outputs": [
    {
     "data": {
      "text/html": [
       "<iframe id=\"igraph\" scrolling=\"no\" style=\"border:none;\" seamless=\"seamless\" src=\"https://plot.ly/~ivan.escalona/2.embed\" height=\"450px\" width=\"900px\"></iframe>"
      ],
      "text/plain": [
       "<plotly.tools.PlotlyDisplay object>"
      ]
     },
     "execution_count": 14,
     "metadata": {},
     "output_type": "execute_result"
    }
   ],
   "source": [
    "\n",
    "\n",
    "df_sample = pd.read_csv('https://raw.githubusercontent.com/plotly/datasets/master/minoritymajority.csv')\n",
    "df_sample_r = df_sample[df_sample['STNAME'] == 'Wisconsin']\n",
    "\n",
    "values = df_sample_r['TOT_POP'].tolist()\n",
    "fips = df_sample_r['FIPS'].tolist()\n",
    "\n",
    "colorscale = [\n",
    "    'rgb(193, 193, 193)',\n",
    "    'rgb(239,239,239)',\n",
    "    'rgb(195, 196, 222)',\n",
    "    'rgb(144,148,194)',\n",
    "    'rgb(101,104,168)',\n",
    "    'rgb(65, 53, 132)'\n",
    "]\n",
    "\n",
    "fig = ff.create_choropleth(\n",
    "    fips=fips, values=values, scope=['WI'],\n",
    "    binning_endpoints=[14348, 63983, 134827, 426762, 2081313], colorscale=colorscale,\n",
    "    county_outline={'color': 'rgb(255,255,255)', 'width': 0.5}, round_legend_values=True,\n",
    "    legend_title='Population by County', title='California and Nearby States'\n",
    ")\n",
    "py.tools.set_credentials_file(username='ivan.escalona', api_key='fQu1m9ETBn8NRAiOK7CW')\n",
    "py.plotly.iplot(fig, filename='choropleth_california_and_surr_states_outlines')"
   ]
  },
  {
   "cell_type": "code",
   "execution_count": null,
   "metadata": {},
   "outputs": [],
   "source": []
  }
 ],
 "metadata": {
  "kernelspec": {
   "display_name": "Python 3",
   "language": "python",
   "name": "python3"
  },
  "language_info": {
   "codemirror_mode": {
    "name": "ipython",
    "version": 3
   },
   "file_extension": ".py",
   "mimetype": "text/x-python",
   "name": "python",
   "nbconvert_exporter": "python",
   "pygments_lexer": "ipython3",
   "version": "3.7.1"
  }
 },
 "nbformat": 4,
 "nbformat_minor": 2
}
